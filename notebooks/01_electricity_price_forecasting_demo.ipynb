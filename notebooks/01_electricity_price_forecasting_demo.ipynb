{
  "cells": [
    {
      "cell_type": "markdown",
      "metadata": {},
      "source": [
        "# Electricity Price Forecasting Demo\n",
        "\n",
        "This notebook demonstrates a complete workflow for forecasting day-ahead electricity market prices using machine learning and time series models.\n",
        "\n",
        "## Table of Contents\n",
        "1. [Setup and Imports](#setup)\n",
        "2. [Data Generation](#data)\n",
        "3. [Data Preprocessing](#preprocessing)\n",
        "4. [Feature Engineering](#features)\n",
        "5. [Model Training](#models)\n",
        "6. [Model Evaluation](#evaluation)\n",
        "7. [Results Analysis](#analysis)\n",
        "8. [Business Impact](#business)\n"
      ]
    },
    {
      "cell_type": "markdown",
      "metadata": {},
      "source": [
        "## 1. Setup and Imports {#setup}\n"
      ]
    },
    {
      "cell_type": "code",
      "execution_count": null,
      "metadata": {},
      "outputs": [],
      "source": [
        "import sys\n",
        "import os\n",
        "sys.path.append('../src')\n",
        "\n",
        "import pandas as pd\n",
        "import numpy as np\n",
        "import matplotlib.pyplot as plt\n",
        "import seaborn as sns\n",
        "from datetime import datetime, timedelta\n",
        "import warnings\n",
        "warnings.filterwarnings('ignore')\n",
        "\n",
        "# Set style\n",
        "plt.style.use('seaborn-v0_8')\n",
        "sns.set_palette(\"husl\")\n",
        "\n",
        "# Import our modules\n",
        "from data.preprocessor import DataPreprocessor\n",
        "from models.baseline_models import BaselineModels\n",
        "from models.ml_models import MLModels\n",
        "from models.time_series_models import TimeSeriesModels\n",
        "from evaluation.metrics import EvaluationMetrics\n",
        "from evaluation.visualization import ModelVisualization\n",
        "\n",
        "print(\"Setup complete!\")\n"
      ]
    }
  ],
  "metadata": {
    "language_info": {
      "name": "python"
    }
  },
  "nbformat": 4,
  "nbformat_minor": 2
}
