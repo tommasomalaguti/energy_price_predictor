{
  "cells": [
    {
      "cell_type": "markdown",
      "metadata": {},
      "source": [
        "# Electricity Price Forecasting on Google Colab\n",
        "\n",
        "This notebook demonstrates electricity price forecasting using machine learning and time series models, optimized for Google Colab environment.\n",
        "\n",
        "## Features\n",
        "- Real ENTSO-E data download\n",
        "- Multiple ML and time series models\n",
        "- GPU acceleration for deep learning\n",
        "- Interactive visualizations\n",
        "- Business impact analysis\n",
        "\n",
        "## Setup\n",
        "Run the cells below to install dependencies and set up the environment.\n"
      ]
    },
    {
      "cell_type": "markdown",
      "metadata": {},
      "source": [
        "## 1. Install Dependencies and Clone Repository\n"
      ]
    },
    {
      "cell_type": "code",
      "execution_count": null,
      "metadata": {},
      "outputs": [],
      "source": [
        "# Install required packages\n",
        "!pip install xgboost lightgbm prophet tensorflow torch\n",
        "!pip install plotly streamlit\n",
        "\n",
        "# Clone the repository\n",
        "!git clone https://github.com/tommasomalaguti/energy_price_predictor.git\n",
        "\n",
        "# Change to the project directory\n",
        "import os\n",
        "os.chdir('energy_price_predictor')\n",
        "\n",
        "print(\"Setup complete!\")\n",
        "print(f\"Current directory: {os.getcwd()}\")\n"
      ]
    }
  ],
  "metadata": {
    "language_info": {
      "name": "python"
    }
  },
  "nbformat": 4,
  "nbformat_minor": 2
}
